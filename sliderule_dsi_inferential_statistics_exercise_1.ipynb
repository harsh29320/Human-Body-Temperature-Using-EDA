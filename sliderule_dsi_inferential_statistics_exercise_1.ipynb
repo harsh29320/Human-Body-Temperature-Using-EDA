{
 "cells": [
  {
   "cell_type": "markdown",
   "metadata": {},
   "source": [
    "# What is the True Normal Human Body Temperature? \n",
    "\n",
    "#### Background\n",
    "\n",
    "The mean normal body temperature was held to be 37$^{\\circ}$C or 98.6$^{\\circ}$F for more than 120 years since it was first conceptualized and reported by Carl Wunderlich in a famous 1868 book. But, is this value statistically correct?"
   ]
  },
  {
   "cell_type": "markdown",
   "metadata": {},
   "source": [
    "<h3>Exercises</h3>\n",
    "\n",
    "<p>In this exercise, you will analyze a dataset of human body temperatures and employ the concepts of hypothesis testing, confidence intervals, and statistical significance.</p>\n",
    "\n",
    "<p>Answer the following questions <b>in this notebook below and submit to your Github account</b>.</p> \n",
    "\n",
    "<ol>\n",
    "<li>  Is the distribution of body temperatures normal? \n",
    "    <ul>\n",
    "    <li> Although this is not a requirement for CLT to hold (read CLT carefully), it gives us some peace of mind that the population may also be normally distributed if we assume that this sample is representative of the population.\n",
    "    </ul>\n",
    "<li>  Is the sample size large? Are the observations independent?\n",
    "    <ul>\n",
    "    <li> Remember that this is a condition for the CLT, and hence the statistical tests we are using, to apply.\n",
    "    </ul>\n",
    "<li>  Is the true population mean really 98.6 degrees F?\n",
    "    <ul>\n",
    "    <li> Would you use a one-sample or two-sample test? Why?\n",
    "    <li> In this situation, is it appropriate to use the $t$ or $z$ statistic? \n",
    "    <li> Now try using the other test. How is the result be different? Why?\n",
    "    </ul>\n",
    "<li>  Draw a small sample of size 10 from the data and repeat both tests. \n",
    "    <ul>\n",
    "    <li> Which one is the correct one to use? \n",
    "    <li> What do you notice? What does this tell you about the difference in application of the $t$ and $z$ statistic?\n",
    "    </ul>\n",
    "<li>  At what temperature should we consider someone's temperature to be \"abnormal\"?\n",
    "    <ul>\n",
    "    <li> Start by computing the margin of error and confidence interval.\n",
    "    </ul>\n",
    "<li>  Is there a significant difference between males and females in normal temperature?\n",
    "    <ul>\n",
    "    <li> What test did you use and why?\n",
    "    <li> Write a story with your conclusion in the context of the original problem.\n",
    "    </ul>\n",
    "</ol>\n",
    "\n",
    "You can include written notes in notebook cells using Markdown: \n",
    "   - In the control panel at the top, choose Cell > Cell Type > Markdown\n",
    "   - Markdown syntax: http://nestacms.com/docs/creating-content/markdown-cheat-sheet\n",
    "\n",
    "#### Resources\n",
    "\n",
    "+ Information and data sources: http://www.amstat.org/publications/jse/datasets/normtemp.txt, http://www.amstat.org/publications/jse/jse_data_archive.htm\n",
    "+ Markdown syntax: http://nestacms.com/docs/creating-content/markdown-cheat-sheet\n",
    "\n",
    "****"
   ]
  },
  {
   "cell_type": "code",
   "execution_count": 74,
   "metadata": {
    "collapsed": true
   },
   "outputs": [],
   "source": [
    "import pandas as pd\n",
    "import matplotlib.pyplot as plt\n",
    "import seaborn as sns\n",
    "import scipy\n",
    "import random\n",
    "from scipy import stats\n",
    "import statsmodels.stats.weightstats as ws\n",
    "%matplotlib inline\n",
    "sns.set()"
   ]
  },
  {
   "cell_type": "code",
   "execution_count": 48,
   "metadata": {
    "collapsed": true
   },
   "outputs": [],
   "source": [
    "# importing data into a pandas dataframe\n",
    "df = pd.read_csv('data/human_body_temperature.csv')"
   ]
  },
  {
   "cell_type": "code",
   "execution_count": 210,
   "metadata": {},
   "outputs": [
    {
     "data": {
      "text/html": [
       "<div>\n",
       "<style>\n",
       "    .dataframe thead tr:only-child th {\n",
       "        text-align: right;\n",
       "    }\n",
       "\n",
       "    .dataframe thead th {\n",
       "        text-align: left;\n",
       "    }\n",
       "\n",
       "    .dataframe tbody tr th {\n",
       "        vertical-align: top;\n",
       "    }\n",
       "</style>\n",
       "<table border=\"1\" class=\"dataframe\">\n",
       "  <thead>\n",
       "    <tr style=\"text-align: right;\">\n",
       "      <th></th>\n",
       "      <th>temperature</th>\n",
       "      <th>gender</th>\n",
       "      <th>heart_rate</th>\n",
       "    </tr>\n",
       "  </thead>\n",
       "  <tbody>\n",
       "    <tr>\n",
       "      <th>0</th>\n",
       "      <td>99.3</td>\n",
       "      <td>F</td>\n",
       "      <td>68.0</td>\n",
       "    </tr>\n",
       "    <tr>\n",
       "      <th>1</th>\n",
       "      <td>98.4</td>\n",
       "      <td>F</td>\n",
       "      <td>81.0</td>\n",
       "    </tr>\n",
       "    <tr>\n",
       "      <th>2</th>\n",
       "      <td>97.8</td>\n",
       "      <td>M</td>\n",
       "      <td>73.0</td>\n",
       "    </tr>\n",
       "    <tr>\n",
       "      <th>3</th>\n",
       "      <td>99.2</td>\n",
       "      <td>F</td>\n",
       "      <td>66.0</td>\n",
       "    </tr>\n",
       "    <tr>\n",
       "      <th>4</th>\n",
       "      <td>98.0</td>\n",
       "      <td>F</td>\n",
       "      <td>73.0</td>\n",
       "    </tr>\n",
       "  </tbody>\n",
       "</table>\n",
       "</div>"
      ],
      "text/plain": [
       "   temperature gender  heart_rate\n",
       "0         99.3      F        68.0\n",
       "1         98.4      F        81.0\n",
       "2         97.8      M        73.0\n",
       "3         99.2      F        66.0\n",
       "4         98.0      F        73.0"
      ]
     },
     "execution_count": 210,
     "metadata": {},
     "output_type": "execute_result"
    }
   ],
   "source": [
    "#checking the data\n",
    "df.head()"
   ]
  },
  {
   "cell_type": "code",
   "execution_count": 14,
   "metadata": {},
   "outputs": [
    {
     "name": "stdout",
     "output_type": "stream",
     "text": [
      "<class 'pandas.core.frame.DataFrame'>\n",
      "RangeIndex: 130 entries, 0 to 129\n",
      "Data columns (total 3 columns):\n",
      "temperature    130 non-null float64\n",
      "gender         130 non-null object\n",
      "heart_rate     130 non-null float64\n",
      "dtypes: float64(2), object(1)\n",
      "memory usage: 3.1+ KB\n"
     ]
    }
   ],
   "source": [
    "df.info()"
   ]
  },
  {
   "cell_type": "code",
   "execution_count": 50,
   "metadata": {
    "collapsed": true
   },
   "outputs": [],
   "source": [
    "#significance level alpha\n",
    "alpha =  0.05"
   ]
  },
  {
   "cell_type": "code",
   "execution_count": 15,
   "metadata": {},
   "outputs": [
    {
     "data": {
      "image/png": "[encoded data removed]",
      "text/plain": [
       "<matplotlib.figure.Figure at 0x4cb90b2048>"
      ]
     },
     "metadata": {},
     "output_type": "display_data"
    }
   ],
   "source": [
    "# Analyzing temperature data using histogram\n",
    "_ = plt.hist(df.temperature, bins=11)\n",
    "_ = plt.xlabel('Temperature (F)')\n",
    "_ = plt.ylabel('Count')"
   ]
  },
  {
   "cell_type": "code",
   "execution_count": 17,
   "metadata": {
    "collapsed": true
   },
   "outputs": [],
   "source": [
    "import numpy as np"
   ]
  },
  {
   "cell_type": "code",
   "execution_count": 20,
   "metadata": {
    "collapsed": true
   },
   "outputs": [],
   "source": [
    "# definig a function to calculate empirical cumultive distribution function (ECDF)\n",
    "\n",
    "def ecdf(data):\n",
    "    x = np.sort(data)\n",
    "    y = np.arange(1, len(x)+1)/ len(x)\n",
    "    return x, y"
   ]
  },
  {
   "cell_type": "code",
   "execution_count": 21,
   "metadata": {},
   "outputs": [],
   "source": [
    "temp_x, temp_y = ecdf(df.temperature)"
   ]
  },
  {
   "cell_type": "code",
   "execution_count": 25,
   "metadata": {},
   "outputs": [
    {
     "data": {
      "image/png": "[encoded data removed]",
      "text/plain": [
       "<matplotlib.figure.Figure at 0x4cb8e44b38>"
      ]
     },
     "metadata": {},
     "output_type": "display_data"
    }
   ],
   "source": [
    "#plotting ECDF for temperature data \n",
    "_ = plt.plot(temp_x, temp_y,marker=\".\", linestyle='none')\n",
    "_ = plt.xlabel('Percentage of temperature (F)')\n",
    "_ = plt.ylabel('ECDF')\n",
    "plt.margins(0.02)"
   ]
  },
  {
   "cell_type": "code",
   "execution_count": 27,
   "metadata": {
    "collapsed": true
   },
   "outputs": [],
   "source": [
    "# computing mean and std to parameterize normal distribution\n",
    "mean = np.mean(df.temperature)\n",
    "std = np.std(df.temperature)\n",
    "samples = np.random.normal(mean, std, size=10000)\n",
    "\n",
    "#calculating theortical x and y from the normally distributed samples\n",
    "x_theor, y_theor = ecdf(samples)"
   ]
  },
  {
   "cell_type": "code",
   "execution_count": 28,
   "metadata": {},
   "outputs": [
    {
     "data": {
      "image/png": "[encoded data removed]",
      "text/plain": [
       "<matplotlib.figure.Figure at 0x4cb90a5be0>"
      ]
     },
     "metadata": {},
     "output_type": "display_data"
    }
   ],
   "source": [
    "#plotting theoritical and empirical CDFs on the same plot to check the normality\n",
    "_ = plt.plot(x_theor, y_theor)\n",
    "_ = plt.plot(temp_x, temp_y, marker=\".\", linestyle=\"none\")\n",
    "_ = plt.xlabel('Temperaure (F)')\n",
    "_ = plt.ylabel('CDF')"
   ]
  },
  {
   "cell_type": "markdown",
   "metadata": {},
   "source": [
    "From the above theroritical and empirical CDFs, it seems that data is normally distributed"
   ]
  },
  {
   "cell_type": "code",
   "execution_count": 43,
   "metadata": {},
   "outputs": [],
   "source": [
    "#performing che square test\n",
    "chi, p = stats.normaltest(df.temperature)"
   ]
  },
  {
   "cell_type": "code",
   "execution_count": 44,
   "metadata": {},
   "outputs": [
    {
     "name": "stdout",
     "output_type": "stream",
     "text": [
      "2.70380143332 0.258747986349\n"
     ]
    }
   ],
   "source": [
    "print(chi, p)"
   ]
  },
  {
   "cell_type": "code",
   "execution_count": 51,
   "metadata": {},
   "outputs": [
    {
     "name": "stdout",
     "output_type": "stream",
     "text": [
      "We cannot reject the null hypothesis at alpha = 0.05\n"
     ]
    }
   ],
   "source": [
    "if p <= alpha:\n",
    "    print('We can reject the null hypothesis at alpha = 0.05')\n",
    "else:\n",
    "    print('We cannot reject the null hypothesis at alpha = 0.05')"
   ]
  },
  {
   "cell_type": "markdown",
   "metadata": {},
   "source": [
    "The ECDF curve and the chi sqare test both suggest that the data is normally distributed."
   ]
  },
  {
   "cell_type": "markdown",
   "metadata": {},
   "source": []
  },
  {
   "cell_type": "markdown",
   "metadata": {},
   "source": [
    "2) Is the sample size large? Are the observations independent?"
   ]
  },
  {
   "cell_type": "code",
   "execution_count": 29,
   "metadata": {},
   "outputs": [
    {
     "data": {
      "image/png": "[encoded data removed]",
      "text/plain": [
       "<matplotlib.figure.Figure at 0x4cb854ee10>"
      ]
     },
     "metadata": {},
     "output_type": "display_data"
    }
   ],
   "source": [
    "# We will use bootstrap samples to determine if the sample size is large and observations are independent\n",
    "\n",
    "# For loop to calculate ECDF and generate the plots\n",
    "\n",
    "for _ in range(50):\n",
    "    #generating bootstrap samples\n",
    "    bs_temperature = np.random.choice(df.temperature, size=len(df.temperature))\n",
    "    \n",
    "    #computing and plotting ECDFs\n",
    "    x, y = ecdf(bs_temperature)\n",
    "    _ = plt.plot(x, y, marker='.', linestyle='none', color='gray')\n",
    "    \n",
    "#plotting ecdf from original data\n",
    "temp_x, temp_y = ecdf(df.temperature)\n",
    "_ = plt.plot(temp_x, temp_y, marker='.', linestyle='none')"
   ]
  },
  {
   "cell_type": "markdown",
   "metadata": {},
   "source": [
    "Answer: Since the bootstrap samples approximately follows the distribution of the original data, we can assume that the sample is large enough and the observations are independent."
   ]
  },
  {
   "cell_type": "markdown",
   "metadata": {},
   "source": [
    "    3. Is the true population mean really 98.6 degrees F?\n",
    "        Would you use a one-sample or two-sample test? Why?\n",
    "        In this situation, is it appropriate to use the  tt  or  zz  statistic?\n",
    "        Now try using the other test. How is the result be different? Why?"
   ]
  },
  {
   "cell_type": "markdown",
   "metadata": {},
   "source": [
    "We will perform one-sample test in this case since we are comparing one set of data to a single number 98.6 F\n",
    "Since the sample size is > 30 we will use z-score here\n",
    "We will also use bootstrap method to obtain the p-value that mean is less than 98.6 F"
   ]
  },
  {
   "cell_type": "code",
   "execution_count": 61,
   "metadata": {},
   "outputs": [],
   "source": [
    "tempmean = 98.6\n",
    "(z,p1) = ws.ztest(df.temperature, value=tempmean)"
   ]
  },
  {
   "cell_type": "code",
   "execution_count": 71,
   "metadata": {},
   "outputs": [
    {
     "name": "stdout",
     "output_type": "stream",
     "text": [
      "We can reject the null hypothesis at alpha = 0.05 that data mean is equal to 98.6 with p-value =4.9021570141e-08\n"
     ]
    }
   ],
   "source": [
    "if p1 <= alpha:\n",
    "    print('We can reject the null hypothesis at alpha = 0.05 that data mean is equal to 98.6 with p-value =' + str(p1))\n",
    "else:\n",
    "    print('We cannot reject the null hypothesis at alpha = 0.05 that data mean is equal to 98.6 with p-value =' + str(p1))"
   ]
  },
  {
   "cell_type": "code",
   "execution_count": 69,
   "metadata": {},
   "outputs": [],
   "source": [
    "(t, p2) = scipy.stats.ttest_1samp(df.temperature, tempmean)"
   ]
  },
  {
   "cell_type": "code",
   "execution_count": 72,
   "metadata": {},
   "outputs": [
    {
     "name": "stdout",
     "output_type": "stream",
     "text": [
      "We can reject the null hypothesis at alpha = 0.05 that data mean is equal to 98.6 with p-value =2.41063204156e-07\n"
     ]
    }
   ],
   "source": [
    "if p2 <= alpha:\n",
    "    print('We can reject the null hypothesis at alpha = 0.05 that data mean is equal to 98.6 with p-value =' + str(p2))\n",
    "else:\n",
    "    print('We cannot reject the null hypothesis at alpha = 0.05 that data mean is equal to 98.6 with p-value =' + str(p2))"
   ]
  },
  {
   "cell_type": "markdown",
   "metadata": {},
   "source": [
    "both z and t test shows that mean is not equal to 98.6 F"
   ]
  },
  {
   "cell_type": "code",
   "execution_count": 96,
   "metadata": {
    "collapsed": true
   },
   "outputs": [],
   "source": [
    "#defining fuction to obtain replicates of bootstrap samples\n",
    "def bs_replicate_samples(data, func):\n",
    "    return func(np.random.choice(data, size=len(data)))\n",
    "    "
   ]
  },
  {
   "cell_type": "code",
   "execution_count": 97,
   "metadata": {
    "collapsed": true
   },
   "outputs": [],
   "source": [
    "# defining a function to obtain confidence interval of several bootstrap replicates\n",
    "def draw_bs_replicate(data, func, size=1):\n",
    "    #obtaining random bootstrap samples\n",
    "    \n",
    "    bs_replicate = np.empty(size)\n",
    "    \n",
    "    for i in range(size):\n",
    "        bs_replicate[i] = bs_replicate_samples(data, func)\n",
    "        \n",
    "    return bs_replicate"
   ]
  },
  {
   "cell_type": "markdown",
   "metadata": {},
   "source": []
  },
  {
   "cell_type": "markdown",
   "metadata": {},
   "source": [
    "Using bootstrap to test the null hypothesis: mean temperature is equal to 98.6 F"
   ]
  },
  {
   "cell_type": "code",
   "execution_count": 102,
   "metadata": {},
   "outputs": [],
   "source": [
    "#Shift the data to have a mean equal to the mean for hypothesis testing, tempmean = 98.6 F\n",
    "shifted_temp = df.temperature - np.mean(df.temperature) + tempmean"
   ]
  },
  {
   "cell_type": "code",
   "execution_count": 111,
   "metadata": {},
   "outputs": [
    {
     "name": "stdout",
     "output_type": "stream",
     "text": [
      "-0.35076923076921673\n"
     ]
    }
   ],
   "source": [
    "# defining a function to calculate test statistics: difference of mean\n",
    "\n",
    "def diff_temp_mean(data, tempmean=98.6):\n",
    "    return np.mean(data) - tempmean\n",
    "    \n",
    "diff_obs = diff_temp_mean(df.temperature)\n",
    "print(diff_obs)"
   ]
  },
  {
   "cell_type": "code",
   "execution_count": 133,
   "metadata": {
    "collapsed": true
   },
   "outputs": [],
   "source": [
    "# draw bootstrap replicates using previously defined function draw_bs_replicate\n",
    "bs_replicates = draw_bs_replicate(shifted_temp, diff_temp_mean, 10000)"
   ]
  },
  {
   "cell_type": "code",
   "execution_count": 161,
   "metadata": {},
   "outputs": [
    {
     "name": "stdout",
     "output_type": "stream",
     "text": [
      "We can reject the null hypothesis at alpha = 0.05 that data mean is equal to 98.6 with p-value =0.0\n"
     ]
    }
   ],
   "source": [
    "#calculating p-value\n",
    "p_value = np.sum(bs_replicates <= diff_obs)/10000\n",
    "if p_value <= alpha:\n",
    "    print('We can reject the null hypothesis at alpha = 0.05 that data mean is equal to 98.6 with p-value =' + str(p_value))\n",
    "else:\n",
    "    print('We cannot reject the null hypothesis at alpha = 0.05 that data mean is equal to 98.6 with p-value =' + str(p_value))"
   ]
  },
  {
   "cell_type": "markdown",
   "metadata": {},
   "source": [
    "We again observed that the mean of observed data is less than 98.6 F"
   ]
  },
  {
   "cell_type": "code",
   "execution_count": null,
   "metadata": {
    "collapsed": true
   },
   "outputs": [],
   "source": []
  },
  {
   "cell_type": "markdown",
   "metadata": {},
   "source": [
    "4.Draw a small sample of size 10 from the data and repeat both tests.\n",
    "\n",
    "Which one is the correct one to use?\n",
    "What do you notice? What does this tell you about the difference in application of the  tt  and  zz  statistic?"
   ]
  },
  {
   "cell_type": "code",
   "execution_count": 211,
   "metadata": {},
   "outputs": [],
   "source": [
    "#drawing a sample of 10 from the dataset\n",
    "df1 = df.sample(10, replace=False)"
   ]
  },
  {
   "cell_type": "markdown",
   "metadata": {},
   "source": [
    "Since the sample size is < 30 we should use t-test here but we will use both to check the difference"
   ]
  },
  {
   "cell_type": "code",
   "execution_count": 166,
   "metadata": {},
   "outputs": [],
   "source": [
    "#calculating z score and corresponding p-value(p3)\n",
    "(z2, p3) = ws.ztest(df1.temperature, value=tempmean)"
   ]
  },
  {
   "cell_type": "code",
   "execution_count": 169,
   "metadata": {},
   "outputs": [
    {
     "name": "stdout",
     "output_type": "stream",
     "text": [
      "We cannot reject the null hypothesis at alpha = 0.05 that data mean is equal to 98.6 with p-value =0.069554422945\n"
     ]
    }
   ],
   "source": [
    "if p3 <= alpha:\n",
    "    print('We can reject the null hypothesis at alpha = 0.05 that data mean is equal to 98.6 with p-value =' + str(p3))\n",
    "else:\n",
    "    print('We cannot reject the null hypothesis at alpha = 0.05 that data mean is equal to 98.6 with p-value =' + str(p3))"
   ]
  },
  {
   "cell_type": "code",
   "execution_count": 170,
   "metadata": {
    "collapsed": true
   },
   "outputs": [],
   "source": [
    "#calculating t score and corresponding p-value(p4)\n",
    "(t2, p4) = scipy.stats.ttest_1samp(df1.temperature, tempmean)"
   ]
  },
  {
   "cell_type": "code",
   "execution_count": 171,
   "metadata": {},
   "outputs": [
    {
     "name": "stdout",
     "output_type": "stream",
     "text": [
      "We cannot reject the null hypothesis at alpha = 0.05 that data mean is equal to 98.6 with p-value =0.102948437417\n"
     ]
    }
   ],
   "source": [
    "if p4 <= alpha:\n",
    "    print('We can reject the null hypothesis at alpha = 0.05 that data mean is equal to 98.6 with p-value =' + str(p4))\n",
    "else:\n",
    "    print('We cannot reject the null hypothesis at alpha = 0.05 that data mean is equal to 98.6 with p-value =' + str(p4))"
   ]
  },
  {
   "cell_type": "markdown",
   "metadata": {},
   "source": [
    "It is interesting to observe that when we used a small sample the null hypotheis was not rejected and we can say that the mean temperature of the sample is approximaltely  equal to 98.6 F with p-value > alpha(0.05)."
   ]
  },
  {
   "cell_type": "code",
   "execution_count": null,
   "metadata": {
    "collapsed": true
   },
   "outputs": [],
   "source": []
  },
  {
   "cell_type": "markdown",
   "metadata": {},
   "source": [
    "    5. At what temperature should we consider someone's temperature to be \"abnormal\"?\n",
    "    Start by computing the margin of error and confidence interval."
   ]
  },
  {
   "cell_type": "code",
   "execution_count": 172,
   "metadata": {},
   "outputs": [
    {
     "name": "stdout",
     "output_type": "stream",
     "text": [
      "[ 98.12307692  98.37307692]\n"
     ]
    }
   ],
   "source": [
    "#drawing bootstrap repliactes\n",
    "bs_replicates = draw_bs_replicate(df.temperature, np.mean, 10000)\n",
    "\n",
    "#calculating 95% confidence intervals\n",
    "conf_int = np.percentile(bs_replicates, [2.5, 97.5])\n",
    "print(conf_int)"
   ]
  },
  {
   "cell_type": "markdown",
   "metadata": {},
   "source": [
    "So the 95% confidence interval is between 98.12538462 and 98.37538462. Any temperature below or above this range can be considered as abnormal."
   ]
  },
  {
   "cell_type": "code",
   "execution_count": 183,
   "metadata": {},
   "outputs": [
    {
     "name": "stdout",
     "output_type": "stream",
     "text": [
      "margin of error for alpha=0.05 is 0.126034341049\n"
     ]
    }
   ],
   "source": [
    "#calculating margin of error\n",
    "z_ppf = scipy.stats.norm.ppf (1-(alpha/2))\n",
    "\n",
    "margin_of_error = z_ppf * df.temperature.std()/np.sqrt(len(df))\n",
    "print ('margin of error for alpha=0.05 is ' + str(margin_of_error))"
   ]
  },
  {
   "cell_type": "code",
   "execution_count": null,
   "metadata": {},
   "outputs": [],
   "source": []
  },
  {
   "cell_type": "markdown",
   "metadata": {},
   "source": [
    "    6. Is there a significant difference between males and females in normal temperature?\n",
    "    What test did you use and why?\n",
    "    Write a story with your conclusion in the context of the original problem."
   ]
  },
  {
   "cell_type": "code",
   "execution_count": 188,
   "metadata": {
    "collapsed": true
   },
   "outputs": [],
   "source": [
    "#Seperating male and female groups\n",
    "df_male = df[df['gender']=='M']\n",
    "df_female= df[df['gender']=='F']"
   ]
  },
  {
   "cell_type": "code",
   "execution_count": 195,
   "metadata": {},
   "outputs": [
    {
     "name": "stdout",
     "output_type": "stream",
     "text": [
      "0.289230769230727\n"
     ]
    }
   ],
   "source": [
    "#empirical mean difference between group of males and females\n",
    "emp_diff_mean = np.mean(df_female.temperature) - np.mean(df_male.temperature)\n",
    "print(emp_diff_mean)"
   ]
  },
  {
   "cell_type": "markdown",
   "metadata": {},
   "source": [
    "We will used bootstrap method to check the null hypothesis: mean normal temperature of male and females are equal"
   ]
  },
  {
   "cell_type": "code",
   "execution_count": 209,
   "metadata": {},
   "outputs": [
    {
     "name": "stdout",
     "output_type": "stream",
     "text": [
      "We can reject the null hypothesis at alpha = 0.05 that mean of both groups are equal with p-value =0.0099\n"
     ]
    }
   ],
   "source": [
    "#calculating mean normal temperature of the whole dataset\n",
    "obs_mean = np.mean(df.temperature)\n",
    "\n",
    "#generating shifted arrays\n",
    "female_shifted = df_female.temperature - np.mean(df_female.temperature) + obs_mean\n",
    "male_shifted = df_male.temperature - np.mean(df_male.temperature) + obs_mean\n",
    "\n",
    "#generating bootstrap replicates for mean normal temperatures of male and female groups \n",
    "bs_female_temp = draw_bs_replicate(female_shifted, np.mean, 10000)\n",
    "bs_male_temp = draw_bs_replicate(male_shifted, np.mean, 10000)\n",
    "\n",
    "#getting replicates of differences of mean\n",
    "bs_diff = bs_female_temp - bs_male_temp\n",
    "\n",
    "p_diff = np.sum(bs_diff >= emp_diff_mean)/len(bs_diff)\n",
    "\n",
    "\n",
    "if p_diff <= alpha:\n",
    "    print('We can reject the null hypothesis at alpha = 0.05 that mean of both groups are equal with p-value =' + str(p_diff))\n",
    "else:\n",
    "    print('We cannot reject the null hypothesis at alpha = 0.05 that mean of both groups are equal with p-value =' + str(p_diff))"
   ]
  },
  {
   "cell_type": "markdown",
   "metadata": {},
   "source": [
    "  "
   ]
  },
  {
   "cell_type": "markdown",
   "metadata": {},
   "source": [
    "In this exercise the observed body normal temperature for several people was compared to 98.6 F using t and z tests. The analysis showed that the mean pemperature is not equal to 98.6 F. The analysis further showed that the normal body temperature for female group is higher than male group."
   ]
  },
  {
   "cell_type": "code",
   "execution_count": null,
   "metadata": {
    "collapsed": true
   },
   "outputs": [],
   "source": []
  }
 ],
 "metadata": {
  "kernelspec": {
   "display_name": "Python 3",
   "language": "python",
   "name": "python3"
  },
  "language_info": {
   "codemirror_mode": {
    "name": "ipython",
    "version": 3
   },
   "file_extension": ".py",
   "mimetype": "text/x-python",
   "name": "python",
   "nbconvert_exporter": "python",
   "pygments_lexer": "ipython3",
   "version": "3.6.2"
  }
 },
 "nbformat": 4,
 "nbformat_minor": 1
}
